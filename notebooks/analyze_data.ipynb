{
 "cells": [
  {
   "cell_type": "code",
   "execution_count": 1,
   "id": "10a3111c-247c-4632-90b2-53af6e120e35",
   "metadata": {},
   "outputs": [],
   "source": [
    "import pandas as pd"
   ]
  },
  {
   "cell_type": "markdown",
   "id": "5a95c60a-9faf-4ed4-884e-d0f5abcb2586",
   "metadata": {},
   "source": [
    "## Beispieldaten analysieren"
   ]
  },
  {
   "cell_type": "code",
   "execution_count": 2,
   "id": "2784ad2f-6e6d-4154-92e1-d8bb88819ed6",
   "metadata": {},
   "outputs": [],
   "source": [
    "events = pd.read_csv('../data/de_challenge_sample_data.csv')"
   ]
  },
  {
   "cell_type": "code",
   "execution_count": 3,
   "id": "b3c38e18-88e8-4149-a73c-165e8167bf38",
   "metadata": {},
   "outputs": [
    {
     "data": {
      "text/plain": [
       "Index(['Unnamed: 0', '$schema', 'id', 'type', 'namespace', 'title', 'comment',\n",
       "       'timestamp', 'user', 'bot', 'minor', 'patrolled', 'server_url',\n",
       "       'server_name', 'server_script_path', 'wiki', 'parsedcomment',\n",
       "       'meta_domain', 'meta_uri', 'meta_request_id', 'meta_stream',\n",
       "       'meta_topic', 'meta_dt', 'meta_partition', 'meta_offset', 'meta_id',\n",
       "       'length_old', 'length_new', 'revision_old', 'revision_new'],\n",
       "      dtype='object')"
      ]
     },
     "execution_count": 3,
     "metadata": {},
     "output_type": "execute_result"
    }
   ],
   "source": [
    "events.columns"
   ]
  },
  {
   "cell_type": "code",
   "execution_count": 4,
   "id": "6c4fd583-be93-4f6a-a95f-e314e461a52b",
   "metadata": {},
   "outputs": [
    {
     "data": {
      "text/html": [
       "<div>\n",
       "<style scoped>\n",
       "    .dataframe tbody tr th:only-of-type {\n",
       "        vertical-align: middle;\n",
       "    }\n",
       "\n",
       "    .dataframe tbody tr th {\n",
       "        vertical-align: top;\n",
       "    }\n",
       "\n",
       "    .dataframe thead th {\n",
       "        text-align: right;\n",
       "    }\n",
       "</style>\n",
       "<table border=\"1\" class=\"dataframe\">\n",
       "  <thead>\n",
       "    <tr style=\"text-align: right;\">\n",
       "      <th></th>\n",
       "      <th>Unnamed: 0</th>\n",
       "      <th>$schema</th>\n",
       "      <th>id</th>\n",
       "      <th>type</th>\n",
       "      <th>namespace</th>\n",
       "      <th>title</th>\n",
       "      <th>comment</th>\n",
       "      <th>timestamp</th>\n",
       "      <th>user</th>\n",
       "      <th>bot</th>\n",
       "      <th>...</th>\n",
       "      <th>meta_stream</th>\n",
       "      <th>meta_topic</th>\n",
       "      <th>meta_dt</th>\n",
       "      <th>meta_partition</th>\n",
       "      <th>meta_offset</th>\n",
       "      <th>meta_id</th>\n",
       "      <th>length_old</th>\n",
       "      <th>length_new</th>\n",
       "      <th>revision_old</th>\n",
       "      <th>revision_new</th>\n",
       "    </tr>\n",
       "  </thead>\n",
       "  <tbody>\n",
       "    <tr>\n",
       "      <th>0</th>\n",
       "      <td>0</td>\n",
       "      <td>/mediawiki/recentchange/1.0.0</td>\n",
       "      <td>1389063095</td>\n",
       "      <td>edit</td>\n",
       "      <td>0</td>\n",
       "      <td>Q104971167</td>\n",
       "      <td>/* wbeditentity-update-languages-short:0||nl *...</td>\n",
       "      <td>1611249080</td>\n",
       "      <td>Edoderoobot</td>\n",
       "      <td>True</td>\n",
       "      <td>...</td>\n",
       "      <td>mediawiki.recentchange</td>\n",
       "      <td>eqiad.mediawiki.recentchange</td>\n",
       "      <td>2021-01-21T17:11:20Z</td>\n",
       "      <td>0</td>\n",
       "      <td>2887301727</td>\n",
       "      <td>a62392d6-25d3-405c-9d6c-54956eb60a52</td>\n",
       "      <td>3781</td>\n",
       "      <td>3860</td>\n",
       "      <td>1345581201</td>\n",
       "      <td>1345601868</td>\n",
       "    </tr>\n",
       "    <tr>\n",
       "      <th>1</th>\n",
       "      <td>0</td>\n",
       "      <td>/mediawiki/recentchange/1.0.0</td>\n",
       "      <td>116494285</td>\n",
       "      <td>edit</td>\n",
       "      <td>0</td>\n",
       "      <td>Acanthastrea erythraea</td>\n",
       "      <td>[[Wikipedia:Geen samenvatting|Verwijst door]] ...</td>\n",
       "      <td>1611249078</td>\n",
       "      <td>Kvdrgeus</td>\n",
       "      <td>False</td>\n",
       "      <td>...</td>\n",
       "      <td>mediawiki.recentchange</td>\n",
       "      <td>eqiad.mediawiki.recentchange</td>\n",
       "      <td>2021-01-21T17:11:18Z</td>\n",
       "      <td>0</td>\n",
       "      <td>2887301728</td>\n",
       "      <td>f6acf301-d987-4d7b-85fe-d2c3cb486ffb</td>\n",
       "      <td>866</td>\n",
       "      <td>65</td>\n",
       "      <td>48016794</td>\n",
       "      <td>58091518</td>\n",
       "    </tr>\n",
       "    <tr>\n",
       "      <th>2</th>\n",
       "      <td>0</td>\n",
       "      <td>/mediawiki/recentchange/1.0.0</td>\n",
       "      <td>119689610</td>\n",
       "      <td>edit</td>\n",
       "      <td>0</td>\n",
       "      <td>神楽シリーズ</td>\n",
       "      <td>/* シリーズ作品 */</td>\n",
       "      <td>1611249080</td>\n",
       "      <td>Zaco9876</td>\n",
       "      <td>False</td>\n",
       "      <td>...</td>\n",
       "      <td>mediawiki.recentchange</td>\n",
       "      <td>eqiad.mediawiki.recentchange</td>\n",
       "      <td>2021-01-21T17:11:20Z</td>\n",
       "      <td>0</td>\n",
       "      <td>2887301732</td>\n",
       "      <td>6f36af6f-f84b-421c-bd5d-ebc2eef54f0f</td>\n",
       "      <td>22851</td>\n",
       "      <td>22855</td>\n",
       "      <td>81442784</td>\n",
       "      <td>81442790</td>\n",
       "    </tr>\n",
       "    <tr>\n",
       "      <th>3</th>\n",
       "      <td>0</td>\n",
       "      <td>/mediawiki/recentchange/1.0.0</td>\n",
       "      <td>283652737</td>\n",
       "      <td>edit</td>\n",
       "      <td>0</td>\n",
       "      <td>Nana &amp; Kaoru</td>\n",
       "      <td>Aggiornamento numero volumi pubblicati.</td>\n",
       "      <td>1611249080</td>\n",
       "      <td>Pazio Paz</td>\n",
       "      <td>False</td>\n",
       "      <td>...</td>\n",
       "      <td>mediawiki.recentchange</td>\n",
       "      <td>eqiad.mediawiki.recentchange</td>\n",
       "      <td>2021-01-21T17:11:20Z</td>\n",
       "      <td>0</td>\n",
       "      <td>2887301735</td>\n",
       "      <td>ffc41bdc-1bb8-4c1b-af88-cb066687d441</td>\n",
       "      <td>31030</td>\n",
       "      <td>31030</td>\n",
       "      <td>118007674</td>\n",
       "      <td>118137110</td>\n",
       "    </tr>\n",
       "    <tr>\n",
       "      <th>4</th>\n",
       "      <td>0</td>\n",
       "      <td>/mediawiki/recentchange/1.0.0</td>\n",
       "      <td>1389063094</td>\n",
       "      <td>edit</td>\n",
       "      <td>0</td>\n",
       "      <td>Q37914681</td>\n",
       "      <td>/* wbsetdescription-add:1|bn */ রাশিয়ার একটি ...</td>\n",
       "      <td>1611249080</td>\n",
       "      <td>Tahmid02016</td>\n",
       "      <td>False</td>\n",
       "      <td>...</td>\n",
       "      <td>mediawiki.recentchange</td>\n",
       "      <td>eqiad.mediawiki.recentchange</td>\n",
       "      <td>2021-01-21T17:11:20Z</td>\n",
       "      <td>0</td>\n",
       "      <td>2887301737</td>\n",
       "      <td>10a1a1da-da51-4991-b248-4f3365d5aaf2</td>\n",
       "      <td>6582</td>\n",
       "      <td>6688</td>\n",
       "      <td>898245132</td>\n",
       "      <td>1345601865</td>\n",
       "    </tr>\n",
       "  </tbody>\n",
       "</table>\n",
       "<p>5 rows × 30 columns</p>\n",
       "</div>"
      ],
      "text/plain": [
       "   Unnamed: 0                        $schema          id  type  namespace  \\\n",
       "0           0  /mediawiki/recentchange/1.0.0  1389063095  edit          0   \n",
       "1           0  /mediawiki/recentchange/1.0.0   116494285  edit          0   \n",
       "2           0  /mediawiki/recentchange/1.0.0   119689610  edit          0   \n",
       "3           0  /mediawiki/recentchange/1.0.0   283652737  edit          0   \n",
       "4           0  /mediawiki/recentchange/1.0.0  1389063094  edit          0   \n",
       "\n",
       "                    title                                            comment  \\\n",
       "0              Q104971167  /* wbeditentity-update-languages-short:0||nl *...   \n",
       "1  Acanthastrea erythraea  [[Wikipedia:Geen samenvatting|Verwijst door]] ...   \n",
       "2                  神楽シリーズ                                       /* シリーズ作品 */   \n",
       "3            Nana & Kaoru            Aggiornamento numero volumi pubblicati.   \n",
       "4               Q37914681  /* wbsetdescription-add:1|bn */ রাশিয়ার একটি ...   \n",
       "\n",
       "    timestamp         user    bot  ...             meta_stream  \\\n",
       "0  1611249080  Edoderoobot   True  ...  mediawiki.recentchange   \n",
       "1  1611249078     Kvdrgeus  False  ...  mediawiki.recentchange   \n",
       "2  1611249080     Zaco9876  False  ...  mediawiki.recentchange   \n",
       "3  1611249080    Pazio Paz  False  ...  mediawiki.recentchange   \n",
       "4  1611249080  Tahmid02016  False  ...  mediawiki.recentchange   \n",
       "\n",
       "                     meta_topic               meta_dt meta_partition  \\\n",
       "0  eqiad.mediawiki.recentchange  2021-01-21T17:11:20Z              0   \n",
       "1  eqiad.mediawiki.recentchange  2021-01-21T17:11:18Z              0   \n",
       "2  eqiad.mediawiki.recentchange  2021-01-21T17:11:20Z              0   \n",
       "3  eqiad.mediawiki.recentchange  2021-01-21T17:11:20Z              0   \n",
       "4  eqiad.mediawiki.recentchange  2021-01-21T17:11:20Z              0   \n",
       "\n",
       "  meta_offset                               meta_id length_old length_new  \\\n",
       "0  2887301727  a62392d6-25d3-405c-9d6c-54956eb60a52       3781       3860   \n",
       "1  2887301728  f6acf301-d987-4d7b-85fe-d2c3cb486ffb        866         65   \n",
       "2  2887301732  6f36af6f-f84b-421c-bd5d-ebc2eef54f0f      22851      22855   \n",
       "3  2887301735  ffc41bdc-1bb8-4c1b-af88-cb066687d441      31030      31030   \n",
       "4  2887301737  10a1a1da-da51-4991-b248-4f3365d5aaf2       6582       6688   \n",
       "\n",
       "  revision_old revision_new  \n",
       "0   1345581201   1345601868  \n",
       "1     48016794     58091518  \n",
       "2     81442784     81442790  \n",
       "3    118007674    118137110  \n",
       "4    898245132   1345601865  \n",
       "\n",
       "[5 rows x 30 columns]"
      ]
     },
     "execution_count": 4,
     "metadata": {},
     "output_type": "execute_result"
    }
   ],
   "source": [
    "events.head(5)"
   ]
  },
  {
   "cell_type": "markdown",
   "id": "4075ce32-66db-4283-87ef-bbed9b73701c",
   "metadata": {},
   "source": [
    "schema: https://github.com/wikimedia/mediawiki-event-schemas/blob/master/jsonschema/mediawiki/recentchange/1.0.0.yaml\n"
   ]
  },
  {
   "cell_type": "markdown",
   "id": "bf0db16f-09d1-4c9c-8554-3f46c63419c3",
   "metadata": {},
   "source": [
    "wichtig für streaming: timestamp column (unix timestamp)"
   ]
  },
  {
   "cell_type": "markdown",
   "id": "7408b1d0-f9dd-4d16-9153-3364022142ae",
   "metadata": {},
   "source": [
    "es müssen später changes nach country gegrouped werden zur analyse"
   ]
  },
  {
   "cell_type": "code",
   "execution_count": 14,
   "id": "48ec6761-4758-494f-8b79-03bc695a9ddf",
   "metadata": {},
   "outputs": [
    {
     "data": {
      "text/plain": [
       "Unnamed: 0                                                            0\n",
       "$schema                                   /mediawiki/recentchange/1.0.0\n",
       "id                                                           1389063095\n",
       "type                                                               edit\n",
       "namespace                                                             0\n",
       "title                                                        Q104971167\n",
       "comment               /* wbeditentity-update-languages-short:0||nl *...\n",
       "timestamp                                                    1611249080\n",
       "user                                                        Edoderoobot\n",
       "bot                                                                True\n",
       "minor                                                             False\n",
       "patrolled                                                          True\n",
       "server_url                                     https://www.wikidata.org\n",
       "server_name                                            www.wikidata.org\n",
       "server_script_path                                                   /w\n",
       "wiki                                                       wikidatawiki\n",
       "parsedcomment         ‎<span dir=\"auto\"><span class=\"autocomment\">Ch...\n",
       "meta_domain                                            www.wikidata.org\n",
       "meta_uri                       https://www.wikidata.org/wiki/Q104971167\n",
       "meta_request_id                                YAm1uApAIIEAACcb76EAAAAA\n",
       "meta_stream                                      mediawiki.recentchange\n",
       "meta_topic                                 eqiad.mediawiki.recentchange\n",
       "meta_dt                                            2021-01-21T17:11:20Z\n",
       "meta_partition                                                        0\n",
       "meta_offset                                                  2887301727\n",
       "meta_id                            a62392d6-25d3-405c-9d6c-54956eb60a52\n",
       "length_old                                                         3781\n",
       "length_new                                                         3860\n",
       "revision_old                                                 1345581201\n",
       "revision_new                                                 1345601868\n",
       "Name: 0, dtype: object"
      ]
     },
     "execution_count": 14,
     "metadata": {},
     "output_type": "execute_result"
    }
   ],
   "source": [
    "events.iloc[0,:]"
   ]
  },
  {
   "cell_type": "code",
   "execution_count": 17,
   "id": "53fa130f-c63c-47e1-823d-4915dcdaff97",
   "metadata": {},
   "outputs": [
    {
     "data": {
      "text/plain": [
       "server_name            meta_domain          \n",
       "www.wikidata.org       www.wikidata.org         440\n",
       "commons.wikimedia.org  commons.wikimedia.org    142\n",
       "en.wikipedia.org       en.wikipedia.org         126\n",
       "fr.wikipedia.org       fr.wikipedia.org          21\n",
       "it.wikipedia.org       it.wikipedia.org          20\n",
       "                                               ... \n",
       "hr.wikipedia.org       hr.wikipedia.org           1\n",
       "hi.wikisource.org      hi.wikisource.org          1\n",
       "fr.wiktionary.org      fr.wiktionary.org          1\n",
       "fr.wikisource.org      fr.wikisource.org          1\n",
       "af.wikipedia.org       af.wikipedia.org           1\n",
       "Length: 63, dtype: int64"
      ]
     },
     "execution_count": 17,
     "metadata": {},
     "output_type": "execute_result"
    }
   ],
   "source": [
    "events[['server_name', 'meta_domain', ]].value_counts()"
   ]
  },
  {
   "cell_type": "code",
   "execution_count": 19,
   "id": "af89e0de-7846-4056-ade1-36c168130d85",
   "metadata": {},
   "outputs": [
    {
     "data": {
      "text/plain": [
       "False    984\n",
       "True      16\n",
       "Name: meta_domain, dtype: int64"
      ]
     },
     "execution_count": 19,
     "metadata": {},
     "output_type": "execute_result"
    }
   ],
   "source": [
    "(events['meta_domain'] == 'de.wikipedia.org').value_counts()"
   ]
  },
  {
   "cell_type": "markdown",
   "id": "c4bf5178-5fd4-4ff8-8460-86c706b9743a",
   "metadata": {},
   "source": [
    "--> deutsche wikipedia kann über server_name bzw meta_domain identifiziert werden"
   ]
  },
  {
   "cell_type": "markdown",
   "id": "953e1dca-31ca-49ac-91cb-e57f4fe7df37",
   "metadata": {},
   "source": [
    "## TODO\n",
    "1. kafka Umgebung aufsetzen\n",
    "2. python container aufsetzen, der mit kafka-python die Beispieldaten importiert und emittiert\n",
    "3. pyspark container aufsetzen, der vom topic einliest und aggregationen vornimmt\n",
    "4. postgres datenbank aufbauen um die ergebnisse abzuspeichern"
   ]
  },
  {
   "cell_type": "code",
   "execution_count": 25,
   "id": "cfe9b8f0-637c-4622-ab9e-d324c15df628",
   "metadata": {},
   "outputs": [],
   "source": [
    "event_records = events.drop('Unnamed: 0', axis=1).to_dict(orient='records')"
   ]
  },
  {
   "cell_type": "code",
   "execution_count": 26,
   "id": "91ae9c83-6ed9-441e-8d3c-37600b494afc",
   "metadata": {},
   "outputs": [],
   "source": [
    "import random"
   ]
  },
  {
   "cell_type": "code",
   "execution_count": 27,
   "id": "e24d2111-046c-4dfe-bd95-88b0c538dcb2",
   "metadata": {},
   "outputs": [
    {
     "data": {
      "text/plain": [
       "{'$schema': '/mediawiki/recentchange/1.0.0',\n",
       " 'id': 1389063563,\n",
       " 'type': 'edit',\n",
       " 'namespace': 0,\n",
       " 'title': 'Q37921422',\n",
       " 'comment': '/* wbsetdescription-add:1|bn */ রাশিয়ার একটি দ্বীপ, [[:toollabs:quickstatements/#/batch/48173|batch #48173]]',\n",
       " 'timestamp': 1611249136,\n",
       " 'user': 'Tahmid02016',\n",
       " 'bot': False,\n",
       " 'minor': False,\n",
       " 'patrolled': True,\n",
       " 'server_url': 'https://www.wikidata.org',\n",
       " 'server_name': 'www.wikidata.org',\n",
       " 'server_script_path': '/w',\n",
       " 'wiki': 'wikidatawiki',\n",
       " 'parsedcomment': '\\u200e<span dir=\"auto\"><span class=\"autocomment\">[bn] বিবরণ যোগ হয়েছে: </span></span> রাশিয়ার একটি দ্বীপ, <a href=\"https://iw.toolforge.org/quickstatements/#.2Fbatch.2F48173\" class=\"extiw\" title=\"toollabs:quickstatements/\">batch #48173</a>',\n",
       " 'meta_domain': 'www.wikidata.org',\n",
       " 'meta_uri': 'https://www.wikidata.org/wiki/Q37921422',\n",
       " 'meta_request_id': 'YAm18ApAAE4AAGdIFDYAAACR',\n",
       " 'meta_stream': 'mediawiki.recentchange',\n",
       " 'meta_topic': 'eqiad.mediawiki.recentchange',\n",
       " 'meta_dt': '2021-01-21T17:12:16Z',\n",
       " 'meta_partition': 0,\n",
       " 'meta_offset': 2887303537,\n",
       " 'meta_id': '914682b4-82ef-407e-8faf-f56a01c497db',\n",
       " 'length_old': 3721,\n",
       " 'length_new': 3799,\n",
       " 'revision_old': 898365466,\n",
       " 'revision_new': 1345602333}"
      ]
     },
     "execution_count": 27,
     "metadata": {},
     "output_type": "execute_result"
    }
   ],
   "source": [
    "random.choice(event_records)"
   ]
  },
  {
   "cell_type": "code",
   "execution_count": 28,
   "id": "13264558-324e-4706-8018-070fe2556d61",
   "metadata": {},
   "outputs": [
    {
     "data": {
      "text/plain": [
       "0.5282792203865189"
      ]
     },
     "execution_count": 28,
     "metadata": {},
     "output_type": "execute_result"
    }
   ],
   "source": [
    "random.random()"
   ]
  },
  {
   "cell_type": "code",
   "execution_count": 11,
   "id": "9b1399ee-6807-417e-8aaf-ccfa0d04a2ef",
   "metadata": {},
   "outputs": [
    {
     "data": {
      "text/plain": [
       "11    735\n",
       "12    265\n",
       "Name: timestamp, dtype: int64"
      ]
     },
     "execution_count": 11,
     "metadata": {},
     "output_type": "execute_result"
    }
   ],
   "source": [
    "pd.to_datetime(events.timestamp, unit=\"s\").dt.minute.value_counts()"
   ]
  },
  {
   "cell_type": "code",
   "execution_count": 9,
   "id": "60749896-d1c2-4774-8fce-e83809dd6ebe",
   "metadata": {},
   "outputs": [
    {
     "data": {
      "text/plain": [
       "Index(['Unnamed: 0', '$schema', 'id', 'type', 'namespace', 'title', 'comment',\n",
       "       'timestamp', 'user', 'bot', 'minor', 'patrolled', 'server_url',\n",
       "       'server_name', 'server_script_path', 'wiki', 'parsedcomment',\n",
       "       'meta_domain', 'meta_uri', 'meta_request_id', 'meta_stream',\n",
       "       'meta_topic', 'meta_dt', 'meta_partition', 'meta_offset', 'meta_id',\n",
       "       'length_old', 'length_new', 'revision_old', 'revision_new'],\n",
       "      dtype='object')"
      ]
     },
     "execution_count": 9,
     "metadata": {},
     "output_type": "execute_result"
    }
   ],
   "source": [
    "events.columns"
   ]
  },
  {
   "cell_type": "code",
   "execution_count": null,
   "id": "687c47e3-e6f9-4557-b369-21dad6b7e229",
   "metadata": {},
   "outputs": [],
   "source": []
  }
 ],
 "metadata": {
  "kernelspec": {
   "display_name": "Python 3 (ipykernel)",
   "language": "python",
   "name": "python3"
  },
  "language_info": {
   "codemirror_mode": {
    "name": "ipython",
    "version": 3
   },
   "file_extension": ".py",
   "mimetype": "text/x-python",
   "name": "python",
   "nbconvert_exporter": "python",
   "pygments_lexer": "ipython3",
   "version": "3.8.10"
  }
 },
 "nbformat": 4,
 "nbformat_minor": 5
}
